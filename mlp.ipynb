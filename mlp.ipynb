{
 "cells": [
  {
   "cell_type": "code",
   "execution_count": 1,
   "metadata": {},
   "outputs": [],
   "source": [
    "import pandas as pd\n",
    "import numpy as np\n",
    "import matplotlib.pyplot as plt\n",
    "from sklearn.decomposition import PCA\n",
    "from sklearn.model_selection import train_test_split\n",
    "from sklearn.preprocessing import StandardScaler\n",
    "import torch\n",
    "import torch.nn as nn\n",
    "import torch.optim as optim\n",
    "import torch.nn.functional as F\n",
    "from torch.utils.data import DataLoader, TensorDataset\n",
    "from collections import Counter\n",
    "\n",
    "from sklearn.ensemble import RandomForestClassifier\n",
    "from sklearn.metrics import accuracy_score, classification_report\n",
    "\n",
    "from data_preprocessing.get_stnthetic_data import *"
   ]
  },
  {
   "cell_type": "markdown",
   "metadata": {},
   "source": [
    "## Load dataset"
   ]
  },
  {
   "cell_type": "code",
   "execution_count": 38,
   "metadata": {},
   "outputs": [
    {
     "name": "stdout",
     "output_type": "stream",
     "text": [
      "<class 'pandas.core.frame.DataFrame'>\n",
      "(400, 110)\n",
      "Progression occurrence\n",
      "Label distribution: Counter({0.0: 200, 1.0: 200})\n"
     ]
    }
   ],
   "source": [
    "train_set_bs, test_set_bs, train_set_ps, test_set_ps, train_set_po, test_set_po = get_synthetic_data(train_set_ratio=0.7, k=3)\n",
    "print(type(train_set_po))\n",
    "\n",
    "def input(train):\n",
    "    X = train.iloc[:, :-1].values\n",
    "    print(X.shape)\n",
    "    \n",
    "    # Standardize the features\n",
    "    scaler = StandardScaler()\n",
    "    X_scaled = scaler.fit_transform(X)\n",
    "    \n",
    "    target_col = train.columns[-1]\n",
    "    print(target_col)\n",
    "    y = train[target_col].values\n",
    "    print(\"Label distribution:\", Counter(y))\n",
    "    return X_scaled, y\n",
    "\n",
    "X_scaled, y = input(train_set_po)"
   ]
  },
  {
   "cell_type": "markdown",
   "metadata": {},
   "source": [
    "### Data Preparation"
   ]
  },
  {
   "cell_type": "code",
   "execution_count": 39,
   "metadata": {},
   "outputs": [],
   "source": [
    "# Split dataset\n",
    "X_train, X_val, y_train, y_val = train_test_split(X_scaled, y, test_size=0.2, random_state=42)\n",
    "\n",
    "# Convert to PyTorch tensors\n",
    "X_train_tensor = torch.tensor(X_train, dtype=torch.float32)\n",
    "X_val_tensor = torch.tensor(X_val, dtype=torch.float32)\n",
    "y_train_tensor = torch.tensor(y_train, dtype=torch.float32).unsqueeze(1)\n",
    "y_val_tensor = torch.tensor(y_val, dtype=torch.float32).unsqueeze(1)\n",
    "\n",
    "# Create DataLoader\n",
    "train_dataset = TensorDataset(X_train_tensor, y_train_tensor)\n",
    "val_dataset = TensorDataset(X_val_tensor, y_val_tensor)\n",
    "train_loader = DataLoader(train_dataset, batch_size=32, shuffle=True)\n",
    "val_loader = DataLoader(val_dataset, batch_size=32, shuffle=False)\n"
   ]
  },
  {
   "cell_type": "markdown",
   "metadata": {},
   "source": [
    "### Define MLP"
   ]
  },
  {
   "cell_type": "code",
   "execution_count": 40,
   "metadata": {},
   "outputs": [],
   "source": [
    "# Define MLP Model\n",
    "class MLP(nn.Module):\n",
    "    def __init__(self, input_size):\n",
    "        super(MLP, self).__init__()\n",
    "        self.fc1 = nn.Linear(input_size, 64)\n",
    "        self.fc2 = nn.Linear(64, 32)\n",
    "        self.fc3 = nn.Linear(32, 16)\n",
    "        self.fc4 = nn.Linear(16, 1)\n",
    "        self.dropout = nn.Dropout(0.3)\n",
    "    \n",
    "    def forward(self, x):\n",
    "        x = F.relu(self.fc1(x))\n",
    "        x = self.dropout(x)\n",
    "        x = F.relu(self.fc2(x))\n",
    "        x = self.dropout(x)\n",
    "        x = F.relu(self.fc3(x))\n",
    "        x = torch.sigmoid(self.fc4(x))\n",
    "        return x\n"
   ]
  },
  {
   "cell_type": "markdown",
   "metadata": {},
   "source": [
    "### Training"
   ]
  },
  {
   "cell_type": "code",
   "execution_count": 41,
   "metadata": {},
   "outputs": [
    {
     "name": "stdout",
     "output_type": "stream",
     "text": [
      "Epoch 1/40 - Train Loss: 0.6783, val Loss: 0.6643, Train Acc: 0.5875, val Acc: 0.6125\n",
      "Epoch 2/40 - Train Loss: 0.6300, val Loss: 0.6050, Train Acc: 0.8375, val Acc: 0.9000\n",
      "Epoch 3/40 - Train Loss: 0.5534, val Loss: 0.5041, Train Acc: 0.9594, val Acc: 0.9875\n",
      "Epoch 4/40 - Train Loss: 0.4407, val Loss: 0.3787, Train Acc: 0.9750, val Acc: 1.0000\n",
      "Epoch 5/40 - Train Loss: 0.3352, val Loss: 0.2629, Train Acc: 0.9938, val Acc: 1.0000\n",
      "Epoch 6/40 - Train Loss: 0.2264, val Loss: 0.1714, Train Acc: 1.0000, val Acc: 1.0000\n",
      "Epoch 7/40 - Train Loss: 0.1412, val Loss: 0.1010, Train Acc: 1.0000, val Acc: 1.0000\n",
      "Epoch 8/40 - Train Loss: 0.0771, val Loss: 0.0534, Train Acc: 1.0000, val Acc: 1.0000\n",
      "Epoch 9/40 - Train Loss: 0.0427, val Loss: 0.0279, Train Acc: 1.0000, val Acc: 1.0000\n",
      "Epoch 10/40 - Train Loss: 0.0230, val Loss: 0.0173, Train Acc: 1.0000, val Acc: 1.0000\n",
      "Epoch 11/40 - Train Loss: 0.0142, val Loss: 0.0131, Train Acc: 1.0000, val Acc: 1.0000\n",
      "Epoch 12/40 - Train Loss: 0.0088, val Loss: 0.0109, Train Acc: 1.0000, val Acc: 1.0000\n",
      "Epoch 13/40 - Train Loss: 0.0060, val Loss: 0.0097, Train Acc: 1.0000, val Acc: 1.0000\n",
      "Epoch 14/40 - Train Loss: 0.0052, val Loss: 0.0090, Train Acc: 1.0000, val Acc: 1.0000\n",
      "Epoch 15/40 - Train Loss: 0.0031, val Loss: 0.0084, Train Acc: 1.0000, val Acc: 1.0000\n",
      "Epoch 16/40 - Train Loss: 0.0034, val Loss: 0.0081, Train Acc: 1.0000, val Acc: 1.0000\n",
      "Epoch 17/40 - Train Loss: 0.0022, val Loss: 0.0077, Train Acc: 1.0000, val Acc: 1.0000\n",
      "Epoch 18/40 - Train Loss: 0.0016, val Loss: 0.0074, Train Acc: 1.0000, val Acc: 1.0000\n",
      "Epoch 19/40 - Train Loss: 0.0016, val Loss: 0.0072, Train Acc: 1.0000, val Acc: 1.0000\n",
      "Epoch 20/40 - Train Loss: 0.0014, val Loss: 0.0069, Train Acc: 1.0000, val Acc: 1.0000\n",
      "Epoch 21/40 - Train Loss: 0.0025, val Loss: 0.0069, Train Acc: 1.0000, val Acc: 1.0000\n",
      "Epoch 22/40 - Train Loss: 0.0010, val Loss: 0.0067, Train Acc: 1.0000, val Acc: 1.0000\n",
      "Epoch 23/40 - Train Loss: 0.0014, val Loss: 0.0053, Train Acc: 1.0000, val Acc: 1.0000\n",
      "Epoch 24/40 - Train Loss: 0.0024, val Loss: 0.0045, Train Acc: 1.0000, val Acc: 1.0000\n",
      "Epoch 25/40 - Train Loss: 0.0027, val Loss: 0.0032, Train Acc: 1.0000, val Acc: 1.0000\n",
      "Epoch 26/40 - Train Loss: 0.0007, val Loss: 0.0026, Train Acc: 1.0000, val Acc: 1.0000\n",
      "Epoch 27/40 - Train Loss: 0.0004, val Loss: 0.0024, Train Acc: 1.0000, val Acc: 1.0000\n",
      "Epoch 28/40 - Train Loss: 0.0005, val Loss: 0.0024, Train Acc: 1.0000, val Acc: 1.0000\n",
      "Epoch 29/40 - Train Loss: 0.0005, val Loss: 0.0024, Train Acc: 1.0000, val Acc: 1.0000\n",
      "Epoch 30/40 - Train Loss: 0.0009, val Loss: 0.0024, Train Acc: 1.0000, val Acc: 1.0000\n",
      "Epoch 31/40 - Train Loss: 0.0005, val Loss: 0.0024, Train Acc: 1.0000, val Acc: 1.0000\n",
      "Epoch 32/40 - Train Loss: 0.0005, val Loss: 0.0025, Train Acc: 1.0000, val Acc: 1.0000\n",
      "Epoch 33/40 - Train Loss: 0.0003, val Loss: 0.0026, Train Acc: 1.0000, val Acc: 1.0000\n",
      "Epoch 34/40 - Train Loss: 0.0002, val Loss: 0.0025, Train Acc: 1.0000, val Acc: 1.0000\n",
      "Epoch 35/40 - Train Loss: 0.0002, val Loss: 0.0025, Train Acc: 1.0000, val Acc: 1.0000\n",
      "Epoch 36/40 - Train Loss: 0.0007, val Loss: 0.0024, Train Acc: 1.0000, val Acc: 1.0000\n",
      "Epoch 37/40 - Train Loss: 0.0002, val Loss: 0.0022, Train Acc: 1.0000, val Acc: 1.0000\n",
      "Epoch 38/40 - Train Loss: 0.0002, val Loss: 0.0021, Train Acc: 1.0000, val Acc: 1.0000\n",
      "Epoch 39/40 - Train Loss: 0.0002, val Loss: 0.0021, Train Acc: 1.0000, val Acc: 1.0000\n",
      "Epoch 40/40 - Train Loss: 0.0003, val Loss: 0.0021, Train Acc: 1.0000, val Acc: 1.0000\n"
     ]
    }
   ],
   "source": [
    "# Instantiate model\n",
    "model = MLP(input_size=X_train.shape[1])\n",
    "criterion = nn.BCELoss()\n",
    "optimizer = optim.Adam(model.parameters(), lr=0.001)\n",
    "scheduler = optim.lr_scheduler.StepLR(optimizer, step_size=10, gamma=0.8)\n",
    "\n",
    "# Training Loop\n",
    "num_epochs = 40\n",
    "train_losses, test_losses, train_accuracies, test_accuracies = [], [], [], []\n",
    "log_data = []\n",
    "\n",
    "for epoch in range(num_epochs):\n",
    "    model.train()\n",
    "    running_loss = 0.0\n",
    "    correct_train, total_train = 0, 0\n",
    "    for inputs, labels in train_loader:\n",
    "        optimizer.zero_grad()\n",
    "        outputs = model(inputs)\n",
    "        loss = criterion(outputs, labels)\n",
    "        loss.backward()\n",
    "        optimizer.step()\n",
    "        running_loss += loss.item()\n",
    "        predictions = (outputs > 0.5).float()\n",
    "        correct_train += (predictions == labels).sum().item()\n",
    "        total_train += labels.size(0)\n",
    "    \n",
    "    # Evaluate\n",
    "    model.eval()\n",
    "    test_loss = 0.0\n",
    "    correct_test, total_test = 0, 0\n",
    "    with torch.no_grad():\n",
    "        for inputs, labels in val_loader:\n",
    "            outputs = model(inputs)\n",
    "            loss = criterion(outputs, labels)\n",
    "            test_loss += loss.item()\n",
    "            predictions = (outputs > 0.5).float()\n",
    "            correct_test += (predictions == labels).sum().item()\n",
    "            total_test += labels.size(0)\n",
    "    \n",
    "    train_loss_avg = running_loss / len(train_loader)\n",
    "    test_loss_avg = test_loss / len(val_loader)\n",
    "    train_accuracy = correct_train / total_train\n",
    "    test_accuracy = correct_test / total_test\n",
    "    \n",
    "    train_losses.append(train_loss_avg)\n",
    "    test_losses.append(test_loss_avg)\n",
    "    train_accuracies.append(train_accuracy)\n",
    "    test_accuracies.append(test_accuracy)\n",
    "    \n",
    "    log_data.append([epoch+1, train_loss_avg, test_loss_avg, train_accuracy, test_accuracy])\n",
    "    print(f'Epoch {epoch+1}/{num_epochs} - Train Loss: {train_loss_avg:.4f}, val Loss: {test_loss_avg:.4f}, Train Acc: {train_accuracy:.4f}, val Acc: {test_accuracy:.4f}')\n",
    "\n",
    "# Save logs\n",
    "log_df = pd.DataFrame(log_data, columns=['Epoch', 'Train Loss', 'val Loss', 'Train Accuracy', 'val Accuracy'])\n",
    "log_df.to_csv('logs.csv', index=False)\n"
   ]
  },
  {
   "cell_type": "markdown",
   "metadata": {},
   "source": [
    "### Loss and accuracy visualization"
   ]
  },
  {
   "cell_type": "code",
   "execution_count": 42,
   "metadata": {},
   "outputs": [],
   "source": [
    "def plot(log, title):\n",
    "    plt.figure(figsize=(12,5))\n",
    "    \n",
    "    plt.subplot(1,2,1)\n",
    "    plt.plot(log['Epoch'], log['Train Loss'], label='Train Loss')\n",
    "    plt.plot(log['Epoch'], log['val Loss'], label='val Loss')\n",
    "    plt.xlabel('Epoch')\n",
    "    plt.ylabel('Loss')\n",
    "    plt.title('Loss Over Epochs')\n",
    "    plt.legend()\n",
    "    \n",
    "    plt.subplot(1,2,2)\n",
    "    plt.plot(log['Epoch'], log['Train Accuracy'], label='Train Accuracy')\n",
    "    plt.plot(log['Epoch'], log['val Accuracy'], label='val Accuracy')\n",
    "    plt.xlabel('Epoch')\n",
    "    plt.ylabel('Accuracy')\n",
    "    plt.title('Accuracy Over Epochs')\n",
    "    plt.legend()\n",
    "    \n",
    "    plt.suptitle(title)\n",
    "    plt.show()"
   ]
  },
  {
   "cell_type": "markdown",
   "metadata": {},
   "source": [
    "#### Progression Occurence"
   ]
  },
  {
   "cell_type": "code",
   "execution_count": 36,
   "metadata": {},
   "outputs": [
    {
     "data": {
      "image/png": "[encoded data removed]",
      "text/plain": [
       "<Figure size 1200x500 with 2 Axes>"
      ]
     },
     "metadata": {},
     "output_type": "display_data"
    }
   ],
   "source": [
    "log_path = \"/Users/ccy/Documents/CMU/Spring2025/42687 Projects in Biomedical AI/Final Project/Explainable Deep Learning on Multimodal Patient Data for Predicting Immunotherapy Outcomes in Metastatic Non-small Cell Lung Cancer/logs_progression_occurence.csv\"\n",
    "log = pd.read_csv(log_path)\n",
    "plot(log,\"Progression Occurence\")"
   ]
  },
  {
   "cell_type": "markdown",
   "metadata": {},
   "source": [
    "### Test on real data"
   ]
  },
  {
   "cell_type": "code",
   "execution_count": null,
   "metadata": {},
   "outputs": [
    {
     "name": "stdout",
     "output_type": "stream",
     "text": [
      "<class 'pandas.core.frame.DataFrame'>\n",
      "(22, 110)\n",
      "Progression occurrence\n",
      "Label distribution: Counter({0.0: 16, 1.0: 6})\n"
     ]
    }
   ],
   "source": [
    "train_set_bs, test_set_bs, train_set_ps, test_set_ps, train_set_po, test_set_po = get_synthetic_data(train_set_ratio=0.7, k=3)\n",
    "print(type(test_set_po))\n",
    "\n",
    "X_test, y_test = input(test_set_po)"
   ]
  },
  {
   "cell_type": "code",
   "execution_count": 28,
   "metadata": {},
   "outputs": [],
   "source": [
    "# Convert to PyTorch tensors\n",
    "X_test_tensor = torch.tensor(X_test, dtype=torch.float32)\n",
    "y_test_tensor = torch.tensor(y_test, dtype=torch.float32).unsqueeze(1)\n",
    "\n",
    "# Create DataLoader\n",
    "test_dataset = TensorDataset(X_test_tensor, y_test_tensor)\n",
    "test_loader = DataLoader(test_dataset, batch_size=73, shuffle=False)"
   ]
  },
  {
   "cell_type": "code",
   "execution_count": null,
   "metadata": {},
   "outputs": [
    {
     "name": "stdout",
     "output_type": "stream",
     "text": [
      "Test Loss: 0.0200, Test Accuracy: 0.9158\n",
      "    Test Loss  Test Accuracy  Predictions  Labels\n",
      "0    3.808325       0.915789          0.0     0.0\n",
      "1    3.808325       0.915789          0.0     0.0\n",
      "2    3.808325       0.915789          1.0     1.0\n",
      "3    3.808325       0.915789          0.0     0.0\n",
      "4    3.808325       0.915789          0.0     1.0\n",
      "5    3.808325       0.915789          1.0     1.0\n",
      "6    3.808325       0.915789          0.0     0.0\n",
      "7    3.808325       0.915789          0.0     0.0\n",
      "8    3.808325       0.915789          1.0     1.0\n",
      "9    3.808325       0.915789          0.0     0.0\n",
      "10   3.808325       0.915789          1.0     0.0\n",
      "11   3.808325       0.915789          0.0     0.0\n",
      "12   3.808325       0.915789          0.0     0.0\n",
      "13   3.808325       0.915789          0.0     0.0\n",
      "14   3.808325       0.915789          1.0     1.0\n",
      "15   3.808325       0.915789          0.0     0.0\n",
      "16   3.808325       0.915789          1.0     1.0\n",
      "17   3.808325       0.915789          0.0     0.0\n",
      "18   3.808325       0.915789          1.0     0.0\n",
      "19   3.808325       0.915789          1.0     0.0\n",
      "20   3.808325       0.915789          0.0     0.0\n",
      "21   3.808325       0.915789          0.0     0.0\n"
     ]
    }
   ],
   "source": [
    "all_predictions = []\n",
    "all_labels = []\n",
    "\n",
    "with torch.no_grad():\n",
    "    model.eval()\n",
    "    for inputs, labels in test_loader:\n",
    "        outputs = model(inputs)\n",
    "        loss = criterion(outputs, labels)\n",
    "        test_loss += loss.item()\n",
    "        predictions = (outputs > 0.5).float()\n",
    "        correct_test += (predictions == labels).sum().item()\n",
    "        total_test += labels.size(0)\n",
    "        \n",
    "        # Collect results\n",
    "        all_predictions.extend(predictions.cpu().numpy().flatten().tolist())\n",
    "        all_labels.extend(labels.cpu().numpy().flatten().tolist())\n",
    "    \n",
    "    test_loss_avg = test_loss / total_test\n",
    "    test_accuracy = correct_test / total_test\n",
    "\n",
    "print(f'Test Loss: {test_loss_avg:.4f}, Test Accuracy: {test_accuracy:.4f}')\n",
    "# Now safe to create DataFrame\n",
    "df = pd.DataFrame({\n",
    "    'Predictions': all_predictions,\n",
    "    'Labels': all_labels\n",
    "})\n",
    "print(df)"
   ]
  }
 ],
 "metadata": {
  "kernelspec": {
   "display_name": "cmu16824hw1",
   "language": "python",
   "name": "python3"
  },
  "language_info": {
   "codemirror_mode": {
    "name": "ipython",
    "version": 3
   },
   "file_extension": ".py",
   "mimetype": "text/x-python",
   "name": "python",
   "nbconvert_exporter": "python",
   "pygments_lexer": "ipython3",
   "version": "3.10.14"
  }
 },
 "nbformat": 4,
 "nbformat_minor": 2
}
